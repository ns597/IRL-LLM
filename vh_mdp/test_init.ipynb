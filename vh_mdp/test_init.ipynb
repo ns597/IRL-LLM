{
 "cells": [
  {
   "cell_type": "code",
   "execution_count": 1,
   "metadata": {},
   "outputs": [],
   "source": [
    "import gym\n",
    "import vh_graph\n",
    "import time\n",
    "import json\n",
    "from virtualhome.simulation.unity_simulator.comm_unity import UnityCommunication"
   ]
  },
  {
   "cell_type": "code",
   "execution_count": 2,
   "metadata": {},
   "outputs": [
    {
     "name": "stdout",
     "output_type": "stream",
     "text": [
      "Imports done\n",
      "Env created\n"
     ]
    }
   ],
   "source": [
    "print('Imports done')\n",
    "env = gym.make('vh_graph-v0')\n",
    "print('Env created')\n",
    "state_path = 'example_graph/example_graph.json'\n",
    "task_goals = {0: '(inside cup[2009] bathroom[1])', 1: '(ontop video_game_controller[2006] kitchen_counter_[230])'}\n",
    "comm = UnityCommunication()"
   ]
  },
  {
   "cell_type": "code",
   "execution_count": 3,
   "metadata": {},
   "outputs": [
    {
     "name": "stdout",
     "output_type": "stream",
     "text": [
      "Restart...\n"
     ]
    }
   ],
   "source": [
    "print('Restart...')\n",
    "comm.reset(0)\n",
    "s, g = comm.environment_graph()\n",
    "s = env.reset(g)\n",
    "env.to_pomdp()"
   ]
  },
  {
   "cell_type": "code",
   "execution_count": 8,
   "metadata": {},
   "outputs": [
    {
     "name": "stdout",
     "output_type": "stream",
     "text": [
      "Rewards: [0]\n",
      "Objects: [('character', 1), ('bathroom', 11), ('rug', 30), ('curtains', 31), ('curtains', 32), ('curtains', 33), ('ceilinglamp', 34), ('walllamp', 35), ('walllamp', 36), ('walllamp', 37), ('bathtub', 38), ('towelrack', 39), ('towelrack', 40), ('towelrack', 41), ('towelrack', 42), ('wallshelf', 43), ('stall', 44), ('toilet', 45), ('stall', 46), ('curtains', 47), ('bathroomcabinet', 48), ('bathroomcounter', 49), ('faucet', 50), ('door', 51), ('doorjamb', 52), ('towel', 53), ('towel', 54), ('towel', 55), ('perfume', 56), ('deodorant', 57), ('hairproduct', 58), ('hairproduct', 59), ('facecream', 60), ('plate', 61), ('toothpaste', 62), ('painkillers', 63), ('waterglass', 64), ('toothbrush', 65), ('barsoap', 66), ('towel', 67), ('towel', 68), ('candle', 69), ('window', 70), ('lightswitch', 71), ('washingmachine', 72), ('bedroom', 73), ('window', 91), ('ceilinglamp', 101), ('tablelamp', 102), ('tablelamp', 103), ('nightstand', 104), ('bookshelf', 105), ('nightstand', 106), ('chair', 107), ('desk', 108), ('bed', 109), ('chair', 110), ('coffeetable', 111), ('closet', 112), ('hanger', 113), ('hanger', 114), ('hanger', 115), ('hanger', 116), ('hanger', 117), ('hanger', 118), ('hanger', 119), ('closetdrawer', 120), ('closetdrawer', 121), ('closetdrawer', 122), ('closetdrawer', 123), ('closetdrawer', 124), ('closetdrawer', 125), ('closetdrawer', 126), ('closet', 127), ('hanger', 128), ('clothesshirt', 129), ('hanger', 130), ('clothespants', 131), ('hanger', 132), ('clothesshirt', 133), ('hanger', 134), ('clothespants', 135), ('hanger', 136), ('clothespants', 137), ('hanger', 138), ('clothespants', 139), ('hanger', 140), ('clothespants', 141), ('hanger', 142), ('clothesshirt', 143), ('hanger', 144), ('hanger', 145), ('hanger', 146), ('closetdrawer', 147), ('clothespile', 148), ('clothespile', 149), ('closetdrawer', 150), ('clothespile', 151), ('closetdrawer', 152), ('clothespile', 153), ('closetdrawer', 154), ('clothespile', 155), ('clothespile', 156), ('clothespile', 157), ('closetdrawer', 158), ('clothespile', 159), ('clothespile', 160), ('clothespile', 161), ('closetdrawer', 162), ('clothespile', 163), ('closetdrawer', 164), ('clothespile', 165), ('clothespile', 166), ('clothespile', 167), ('clothespile', 168), ('doorjamb', 169), ('mouse', 170), ('mousemat', 171), ('keyboard', 172), ('lightswitch', 173), ('computer', 174), ('cpuscreen', 175), ('radio', 176), ('rug', 177), ('wallpictureframe', 178), ('wallpictureframe', 179), ('wallpictureframe', 180), ('candle', 181), ('orchid', 182), ('curtains', 183), ('curtains', 184), ('curtains', 185), ('pillow', 186), ('pillow', 187), ('cellphone', 188), ('photoframe', 189), ('book', 190), ('book', 191), ('box', 192), ('plate', 193), ('mug', 194), ('cupcake', 195), ('cupcake', 196), ('wineglass', 197), ('wineglass', 198), ('plate', 199), ('slippers', 200), ('slippers', 201), ('cellphone', 202), ('folder', 203), ('folder', 204), ('kitchen', 205), ('door', 224), ('ceilinglamp', 225), ('ceilinglamp', 226), ('walllamp', 227), ('walllamp', 228), ('garbagecan', 229), ('tvstand', 230), ('kitchentable', 231), ('bench', 232), ('bench', 233), ('kitchencabinet', 234), ('kitchencabinet', 235), ('kitchencabinet', 236), ('kitchencabinet', 237), ('kitchencounter', 238), ('kitchencounterdrawer', 239), ('kitchencounterdrawer', 240), ('kitchencounterdrawer', 241), ('kitchencounterdrawer', 242), ('kitchencounterdrawer', 243), ('kitchencounterdrawer', 244), ('kitchencounterdrawer', 245), ('kitchencounterdrawer', 246), ('sink', 247), ('faucet', 248), ('bookshelf', 249), ('wallshelf', 250), ('wallshelf', 251), ('rug', 252), ('rug', 253), ('wallpictureframe', 254), ('wallpictureframe', 255), ('wallpictureframe', 256), ('wallpictureframe', 257), ('wallpictureframe', 258), ('wallpictureframe', 259), ('orchid', 260), ('lightswitch', 261), ('powersocket', 262), ('wallphone', 263), ('tv', 264), ('clock', 265), ('washingsponge', 266), ('dishwashingliquid', 267), ('book', 268), ('fryingpan', 269), ('waterglass', 270), ('cutleryknife', 271), ('cutleryfork', 272), ('plate', 273), ('waterglass', 274), ('cutleryknife', 275), ('cutleryfork', 276), ('plate', 277), ('plate', 278), ('cutleryfork', 279), ('cutleryknife', 280), ('waterglass', 281), ('waterglass', 282), ('cutleryknife', 283), ('cutleryfork', 284), ('plate', 285), ('clothespile', 286), ('box', 287), ('dishbowl', 288), ('book', 289), ('book', 290), ('book', 291), ('book', 292), ('book', 293), ('condimentbottle', 294), ('condimentbottle', 295), ('condimentshaker', 296), ('condimentshaker', 297), ('wineglass', 298), ('wineglass', 299), ('box', 300), ('photoframe', 301), ('paper', 302), ('paper', 303), ('stovefan', 304), ('fridge', 305), ('coffeemaker', 306), ('coffeepot', 307), ('toaster', 308), ('breadslice', 309), ('breadslice', 310), ('stove', 311), ('oventray', 312), ('microwave', 313), ('plate', 314), ('bananas', 315), ('bananas', 316), ('dishbowl', 317), ('whippedcream', 318), ('pie', 319), ('bellpepper', 320), ('bellpepper', 321), ('bellpepper', 322), ('bellpepper', 323), ('bellpepper', 324), ('bellpepper', 325), ('dishbowl', 326), ('salmon', 327), ('chips', 328), ('chips', 329), ('candybar', 330), ('chocolatesyrup', 331), ('crackers', 332), ('creamybuns', 333), ('cereal', 334), ('livingroom', 335), ('doorjamb', 362), ('doorjamb', 363), ('window', 364), ('ceilinglamp', 365), ('walllamp', 366), ('walllamp', 367), ('sofa', 368), ('tvstand', 369), ('bookshelf', 370), ('coffeetable', 371), ('chair', 372), ('desk', 373), ('closet', 374), ('hanger', 375), ('clothesshirt', 376), ('hanger', 377), ('clothespants', 378), ('hanger', 379), ('clothesshirt', 380), ('hanger', 381), ('clothespants', 382), ('hanger', 383), ('clothespants', 384), ('hanger', 385), ('clothespants', 386), ('clothespants', 387), ('hanger', 388), ('clothesshirt', 389), ('hanger', 390), ('hanger', 391), ('hanger', 392), ('closetdrawer', 393), ('clothespile', 394), ('clothespile', 395), ('closetdrawer', 396), ('clothespile', 397), ('closetdrawer', 398), ('clothespile', 399), ('closetdrawer', 400), ('clothespile', 401), ('clothespile', 402), ('clothespile', 403), ('closetdrawer', 404), ('clothespile', 405), ('clothespile', 406), ('clothespile', 407), ('closetdrawer', 408), ('clothespile', 409), ('closetdrawer', 410), ('clothespile', 411), ('clothespile', 412), ('clothespile', 413), ('clothespile', 414), ('cabinet', 415), ('wallpictureframe', 416), ('rug', 417), ('wallpictureframe', 418), ('wallpictureframe', 419), ('wallpictureframe', 420), ('pillow', 421), ('pillow', 422), ('curtains', 423), ('curtains', 424), ('curtains', 425), ('tv', 426), ('lightswitch', 427), ('powersocket', 428), ('mouse', 429), ('mousemat', 430), ('keyboard', 431), ('cpuscreen', 432), ('computer', 433), ('book', 434), ('box', 435), ('book', 436), ('apple', 437), ('apple', 438), ('bananas', 439), ('lime', 440), ('peach', 441), ('peach', 442), ('plum', 443), ('plum', 444), ('dishbowl', 445), ('photoframe', 446), ('mug', 447), ('cellphone', 448), ('cellphone', 449), ('paper', 450), ('paper', 451), ('remotecontrol', 452), ('folder', 453)]\n",
      "['not on microwave313', 'not open microwave313', 'not open clothespile286', 'not open kitchencabinet237', 'not on faucet248', 'not on fridge305', 'not open fridge305', 'not open garbagecan229', 'not open book289', 'not on toaster308', 'not open box300', 'open door224', 'not on stove311', 'not open stove311', 'not open kitchencabinet235', 'not open book292', 'not on clock265', 'not on coffeemaker306', 'not open book268', 'not open box287', 'not open kitchencounter238', 'not open book290', 'not open book293', 'not on wallphone263', 'not open kitchencabinet236', 'not open coffeepot307', 'on lightswitch261', 'not open book291', 'not open kitchencabinet234', 'not on tv264', 'not open coffeepot307', 'not open clothespile286', 'not open book289', 'not open book292', 'not open box287', 'not open book290', 'not open book293', 'not open book291', 'inside cutleryknife283 kitchen205', 'inside condimentbottle294 bookshelf249', 'inside condimentbottle294 kitchen205', 'ontop fryingpan269 stove311', 'inside kitchencounterdrawer245 kitchen205', 'inside wallpictureframe256 kitchen205', 'ontop dishbowl326 kitchencounter238', 'inside microwave313 kitchen205', 'inside bellpepper324 kitchen205', 'facing book290 tv264', 'ontop dishbowl288 bookshelf249', 'inside cutleryknife275 kitchen205', 'inside clothespile286 bookshelf249', 'inside clothespile286 kitchen205', 'ontop bananas316 dishbowl317', 'ontop salmon327 microwave313', 'facing rug252 tv264', 'facing rug252 clock265', 'inside ceilinglamp226 kitchen205', 'inside kitchencabinet237 kitchen205', 'inside faucet248 kitchen205', 'inside fridge305 kitchen205', 'facing book293 tv264', 'facing cutleryknife271 tv264', 'facing waterglass282 tv264', 'inside dishwashingliquid267 kitchen205', 'ontop pie319 rug252', 'ontop pie319 kitchentable231', 'inside garbagecan229 kitchen205', 'ontop whippedcream318 rug252', 'ontop whippedcream318 kitchentable231', 'ontop chips329 wallshelf250', 'inside bananas316 bookshelf249', 'inside bananas316 kitchen205', 'inside salmon327 kitchen205', 'facing waterglass274 tv264', 'facing waterglass274 clock265', 'facing wallphone263 tv264', 'facing wallphone263 clock265', 'ontop cutleryknife280 kitchentable231', 'inside plate278 kitchen205', 'inside book289 bookshelf249', 'inside book289 kitchen205', 'inside kitchencounterdrawer240 kitchen205', 'inside pie319 kitchen205', 'inside condimentshaker297 bookshelf249', 'inside condimentshaker297 kitchen205', 'inside toaster308 kitchen205', 'facing plate285 tv264', 'ontop cutleryfork272 kitchentable231', 'inside wallpictureframe259 kitchen205', 'inside waterglass270 kitchen205', 'inside waterglass281 kitchen205', 'inside bench232 kitchen205', 'inside kitchencounterdrawer243 kitchen205', 'facing bananas315 tv264', 'inside box300 kitchen205', 'inside chips328 kitchen205', 'ontop candybar330 wallshelf250', 'facing plate277 tv264', 'facing plate277 clock265', 'inside wallshelf251 kitchen205', 'inside powersocket262 kitchen205', 'ontop plate314 kitchencounter238', 'ontop cutleryknife283 kitchentable231', 'facing cereal334 tv264', 'inside door224 kitchen205', 'ontop wallpictureframe256 wallpictureframe254', 'facing condimentshaker296 tv264', 'ontop microwave313 kitchencounterdrawer244', 'ontop microwave313 kitchencounter238', 'inside stove311 kitchen205', 'facing wallpictureframe258 tv264', 'ontop cutleryknife275 kitchentable231', 'inside plate273 kitchen205', 'inside candybar330 kitchen205', 'ontop faucet248 kitchencounter238', 'facing dishbowl288 tv264', 'inside kitchencabinet235 kitchen205', 'inside plate314 microwave313', 'inside plate314 kitchen205', 'inside book292 bookshelf249', 'inside book292 kitchen205', 'inside paper303 bookshelf249', 'inside paper303 kitchen205', 'ontop dishwashingliquid267 kitchencounter238', 'inside wallpictureframe254 kitchen205', 'inside clock265 kitchen205', 'ontop coffeemaker306 kitchencounterdrawer243', 'ontop coffeemaker306 kitchencounter238', 'inside bellpepper322 kitchen205', 'inside creamybuns333 kitchen205', 'facing kitchentable231 tv264', 'inside walllamp227 kitchen205', 'inside cutleryfork284 kitchen205', 'inside condimentbottle295 bookshelf249', 'inside condimentbottle295 kitchen205', 'inside bellpepper323 kitchen205', 'ontop bellpepper325 kitchencounter238', 'facing lightswitch261 tv264', 'facing lightswitch261 clock265', 'inside kitchencounterdrawer246 kitchen205', 'ontop plate278 kitchentable231', 'facing whippedcream318 tv264', 'facing whippedcream318 clock265', 'ontop kitchencounterdrawer240 kitchencounterdrawer239', 'facing book291 tv264', 'facing cutleryknife280 tv264', 'facing cutleryknife280 clock265', 'ontop toaster308 kitchencounterdrawer243', 'ontop toaster308 kitchencounter238', 'inside coffeemaker306 kitchen205', 'facing rug253 clock265', 'ontop waterglass270 rug252', 'ontop waterglass270 kitchentable231', 'ontop waterglass281 rug252', 'ontop waterglass281 kitchentable231', 'inside wallpictureframe257 kitchen205', 'inside book268 kitchen205', 'inside bellpepper325 kitchen205', 'ontop kitchencounterdrawer243 kitchencounterdrawer241', 'ontop kitchencounterdrawer243 kitchencounter238', 'ontop bench232 rug253', 'facing cutleryfork272 tv264', 'facing cutleryfork272 clock265', 'facing paper302 tv264', 'ontop box300 tvstand230', 'inside cutleryfork276 kitchen205', 'inside box287 bookshelf249', 'inside box287 kitchen205', 'inside wineglass298 kitchen205', 'ontop chips328 wallshelf250', 'facing tv264 clock265', 'inside kitchencounter238 kitchen205', 'inside bookshelf249 kitchen205', 'inside orchid260 kitchen205', 'facing crackers332 tv264', 'inside dishbowl317 bookshelf249', 'inside dishbowl317 kitchen205', 'facing condimentbottle294 tv264', 'facing cutleryknife283 tv264', 'inside cutleryfork279 kitchen205', 'ontop bellpepper320 kitchencounterdrawer244', 'ontop bellpepper320 kitchencounter238', 'ontop chocolatesyrup331 wallshelf250', 'inside tvstand230 kitchen205', 'inside kitchencounterdrawer241 kitchen205', 'ontop plate273 kitchentable231', 'facing clothespile286 tv264', 'facing cutleryknife275 tv264', 'inside book290 bookshelf249', 'inside book290 kitchen205', 'inside rug252 kitchen205', 'inside character1 kitchen205', 'ontop bellpepper322 kitchencounterdrawer244', 'ontop bellpepper322 kitchencounter238', 'ontop creamybuns333 wallshelf251', 'inside breadslice309 toaster308', 'inside breadslice309 kitchen205', 'inside bellpepper320 kitchen205', 'inside chocolatesyrup331 kitchen205', 'ontop cutleryfork284 kitchentable231', 'inside cutleryknife271 kitchen205', 'inside waterglass282 kitchen205', 'inside book293 bookshelf249', 'inside book293 kitchen205', 'ontop bellpepper323 kitchencounterdrawer244', 'ontop bellpepper323 kitchencounter238', 'ontop kitchencounterdrawer246 kitchencounterdrawer245', 'inside bench233 kitchen205', 'inside kitchencounterdrawer244 kitchen205', 'ontop plate285 kitchentable231', 'facing bananas316 tv264', 'inside photoframe301 kitchen205', 'facing book289 tv264', 'facing plate278 tv264', 'facing plate278 clock265', 'inside wallphone263 kitchen205', 'inside waterglass274 kitchen205', 'inside ceilinglamp225 kitchen205', 'inside kitchencabinet236 kitchen205', 'ontop book268 rug252', 'ontop book268 kitchentable231', 'ontop wallpictureframe257 wallpictureframe259', 'facing condimentshaker297 tv264', 'facing pie319 tv264', 'facing pie319 clock265', 'facing waterglass270 tv264', 'facing waterglass270 clock265', 'facing waterglass281 tv264', 'facing waterglass281 clock265', 'facing wallpictureframe259 tv264', 'inside wallpictureframe255 kitchen205', 'ontop cutleryfork276 kitchentable231', 'ontop box287 bookshelf249', 'ontop wineglass298 tvstand230', 'inside plate285 kitchen205', 'facing bench232 tv264', 'facing bench232 clock265', 'ontop orchid260 tvstand230', 'inside stovefan304 kitchen205', 'inside bananas315 bookshelf249', 'inside bananas315 kitchen205', 'facing wallshelf251 tv264', 'facing powersocket262 clock265', 'ontop cutleryfork279 kitchentable231', 'inside washingsponge266 kitchen205', 'inside plate277 kitchen205', 'inside cereal334 kitchen205', 'ontop kitchencounterdrawer241 kitchencounterdrawer242', 'inside walllamp228 kitchen205', 'inside kitchencounterdrawer239 kitchen205', 'inside condimentshaker296 bookshelf249', 'inside condimentshaker296 kitchen205', 'inside coffeepot307 coffeemaker306', 'inside coffeepot307 kitchen205', 'facing plate273 tv264', 'facing plate273 clock265', 'inside sink247 kitchen205', 'inside wallpictureframe258 kitchen205', 'inside fryingpan269 kitchen205', 'ontop wineglass299 tvstand230', 'inside dishbowl326 kitchen205', 'ontop rug252 kitchentable231', 'facing book292 tv264', 'inside dishbowl288 bookshelf249', 'inside dishbowl288 kitchen205', 'facing clock265 tv264', 'close character1 character1', 'inside wallshelf250 kitchen205', 'ontop cutleryknife271 kitchentable231', 'ontop waterglass282 rug252', 'ontop waterglass282 kitchentable231', 'facing creamybuns333 tv264', 'ontop kitchencounterdrawer244 kitchencounterdrawer246', 'ontop kitchencounterdrawer244 kitchencounter238', 'ontop bench233 rug253', 'facing condimentbottle295 tv264', 'inside kitchentable231 kitchen205', 'ontop photoframe301 tvstand230', 'inside wineglass299 kitchen205', 'inside breadslice310 toaster308', 'inside breadslice310 kitchen205', 'ontop waterglass274 rug252', 'ontop waterglass274 kitchentable231', 'inside lightswitch261 kitchen205', 'inside whippedcream318 kitchen205', 'inside chips329 kitchen205', 'ontop tv264 tvstand230', 'inside cutleryknife280 kitchen205', 'inside book291 bookshelf249', 'inside book291 kitchen205', 'ontop bellpepper321 kitchencounterdrawer244', 'ontop bellpepper321 kitchencounter238', 'ontop crackers332 wallshelf251', 'facing book268 tv264', 'facing book268 clock265', 'facing wallpictureframe257 tv264', 'inside kitchencounterdrawer242 kitchen205', 'inside rug253 kitchen205', 'facing box287 tv264', 'facing cutleryfork276 tv264', 'facing cutleryfork276 clock265', 'inside cutleryfork272 kitchen205', 'ontop bellpepper324 kitchencounterdrawer244', 'ontop bellpepper324 kitchencounter238', 'inside paper302 bookshelf249', 'inside paper302 kitchen205', 'facing orchid260 tv264', 'facing bookshelf249 tv264', 'inside kitchencabinet234 kitchen205', 'ontop washingsponge266 kitchencounter238', 'ontop plate277 kitchentable231', 'facing dishbowl317 tv264', 'inside tv264 kitchen205', 'ontop cereal334 wallshelf251', 'inside bellpepper321 kitchen205', 'inside crackers332 kitchen205', 'facing cutleryfork279 tv264', 'ontop coffeepot307 kitchencounter238']\n"
     ]
    },
    {
     "ename": "UnboundLocalError",
     "evalue": "local variable 'image_width' referenced before assignment",
     "output_type": "error",
     "traceback": [
      "\u001b[0;31m---------------------------------------------------------------------------\u001b[0m",
      "\u001b[0;31mUnboundLocalError\u001b[0m                         Traceback (most recent call last)",
      "\u001b[0;32m/tmp/ipykernel_661368/1473149846.py\u001b[0m in \u001b[0;36m<module>\u001b[0;34m\u001b[0m\n\u001b[1;32m     14\u001b[0m     \u001b[0mprint\u001b[0m\u001b[0;34m(\u001b[0m\u001b[0;34m[\u001b[0m\u001b[0mstr\u001b[0m\u001b[0;34m(\u001b[0m\u001b[0mp\u001b[0m\u001b[0;34m)\u001b[0m \u001b[0;32mfor\u001b[0m \u001b[0mp\u001b[0m \u001b[0;32min\u001b[0m \u001b[0mpredicates\u001b[0m\u001b[0;34m]\u001b[0m\u001b[0;34m)\u001b[0m\u001b[0;34m\u001b[0m\u001b[0;34m\u001b[0m\u001b[0m\n\u001b[1;32m     15\u001b[0m     \u001b[0;31m#{'image_width': 300, 'image_height': 300, 'mode': 'normal'}\u001b[0m\u001b[0;34m\u001b[0m\u001b[0;34m\u001b[0m\u001b[0m\n\u001b[0;32m---> 16\u001b[0;31m     \u001b[0menv\u001b[0m\u001b[0;34m.\u001b[0m\u001b[0mget_image\u001b[0m\u001b[0;34m(\u001b[0m\u001b[0mcomm\u001b[0m\u001b[0;34m.\u001b[0m\u001b[0mcamera_count\u001b[0m\u001b[0;34m(\u001b[0m\u001b[0;34m)\u001b[0m\u001b[0;34m[\u001b[0m\u001b[0;36m1\u001b[0m\u001b[0;34m]\u001b[0m\u001b[0;34m,\u001b[0m \u001b[0;36m0\u001b[0m\u001b[0;34m,\u001b[0m \u001b[0;36m6\u001b[0m\u001b[0;34m,\u001b[0m \u001b[0;36m1\u001b[0m\u001b[0;34m,\u001b[0m \u001b[0minfos\u001b[0m\u001b[0;34m,\u001b[0m \u001b[0mcomm\u001b[0m\u001b[0;34m)\u001b[0m\u001b[0;34m\u001b[0m\u001b[0;34m\u001b[0m\u001b[0m\n\u001b[0m\u001b[1;32m     17\u001b[0m     \u001b[0mprint\u001b[0m\u001b[0;34m(\u001b[0m\u001b[0;34m'***********************************************'\u001b[0m\u001b[0;34m)\u001b[0m\u001b[0;34m\u001b[0m\u001b[0;34m\u001b[0m\u001b[0m\n",
      "\u001b[0;32m~/virtualhome/pretrained/vh_mdp/vh_graph/envs/vh_env.py\u001b[0m in \u001b[0;36mget_image\u001b[0;34m(self, num_static_cameras, agent_id, num_camera_per_agent, CAMERA_NUM, info, comm)\u001b[0m\n\u001b[1;32m    171\u001b[0m         \u001b[0;32melse\u001b[0m\u001b[0;34m:\u001b[0m\u001b[0;34m\u001b[0m\u001b[0;34m\u001b[0m\u001b[0m\n\u001b[1;32m    172\u001b[0m             \u001b[0mcurrent_mode\u001b[0m \u001b[0;34m=\u001b[0m \u001b[0;34m'normal'\u001b[0m\u001b[0;34m\u001b[0m\u001b[0;34m\u001b[0m\u001b[0m\n\u001b[0;32m--> 173\u001b[0;31m         \u001b[0ms\u001b[0m\u001b[0;34m,\u001b[0m \u001b[0mimages\u001b[0m \u001b[0;34m=\u001b[0m \u001b[0mcomm\u001b[0m\u001b[0;34m.\u001b[0m\u001b[0mcamera_image\u001b[0m\u001b[0;34m(\u001b[0m\u001b[0mcamera_ids\u001b[0m\u001b[0;34m,\u001b[0m \u001b[0mmode\u001b[0m\u001b[0;34m=\u001b[0m\u001b[0mcurrent_mode\u001b[0m\u001b[0;34m,\u001b[0m \u001b[0mimage_width\u001b[0m\u001b[0;34m=\u001b[0m\u001b[0mimage_width\u001b[0m\u001b[0;34m,\u001b[0m \u001b[0mimage_height\u001b[0m\u001b[0;34m=\u001b[0m\u001b[0mimage_height\u001b[0m\u001b[0;34m)\u001b[0m\u001b[0;34m\u001b[0m\u001b[0;34m\u001b[0m\u001b[0m\n\u001b[0m\u001b[1;32m    174\u001b[0m         \u001b[0;32mreturn\u001b[0m \u001b[0mimages\u001b[0m\u001b[0;34m[\u001b[0m\u001b[0;36m0\u001b[0m\u001b[0;34m]\u001b[0m\u001b[0;34m\u001b[0m\u001b[0;34m\u001b[0m\u001b[0m\n\u001b[1;32m    175\u001b[0m \u001b[0;34m\u001b[0m\u001b[0m\n",
      "\u001b[0;31mUnboundLocalError\u001b[0m: local variable 'image_width' referenced before assignment"
     ]
    }
   ],
   "source": [
    "script = ['[walk] <milk> (1)',\n",
    "          '[grab] <milk> (1)',\n",
    "          '[walk] <microwave> (1)',\n",
    "          '[open] <microwave> (1)',\n",
    "          '[putin] <milk> (1) <microwave> (1)',\n",
    "          '[close] <microwave> (1)',\n",
    "          '[switchon] <microwave> (1)']\n",
    "          \n",
    "for sc in script:\n",
    "    rewards, states, infos = env.step({0: sc})\n",
    "    print(\"Rewards:\", rewards)\n",
    "    objects, predicates = env.get_objects_and_predicates(0)\n",
    "    print(\"Objects:\", objects)\n",
    "    print([str(p) for p in predicates])\n",
    "    #{'image_width': 300, 'image_height': 300, 'mode': 'normal'}\n",
    "    env.get_image(comm.camera_count()[1], 0, 6, 1, infos, comm)\n",
    "    print('***********************************************')"
   ]
  },
  {
   "cell_type": "code",
   "execution_count": null,
   "metadata": {},
   "outputs": [],
   "source": [
    "comm.reset(0)\n",
    "\n",
    "# Get nodes for salmon and microwave, glass, faucet and sink\n",
    "salmon_id = [node['id'] for node in g['nodes'] if node['class_name'] == 'salmon'][0]\n",
    "microwave_id = [node['id'] for node in g['nodes'] if node['class_name'] == 'microwave'][0]\n",
    "glass_id = [node['id'] for node in g['nodes'] if node['class_name'] == 'waterglass'][-1]\n",
    "sink_id = [node['id'] for node in g['nodes'] if node['class_name'] == 'sink'][0]\n",
    "faucet_id = [node['id'] for node in g['nodes'] if node['class_name'] == 'faucet'][-1]\n",
    "\n",
    "\n",
    "# Put salmon in microwave\n",
    "script = [\n",
    "    '<char0> [walk] <salmon> ({}) | <char1> [walk] <glass> ({})'.format(salmon_id, glass_id),\n",
    "    '<char0> [grab] <salmon> ({}) | <char1> [grab] <glass> ({})'.format(salmon_id, glass_id),\n",
    "    '<char0> [open] <microwave> ({}) | <char1> [walk] <sink> ({})'.format(microwave_id, sink_id),\n",
    "    '<char0> [putin] <salmon> ({}) <microwave> ({}) | <char1> [putback] <glass> ({}) <sink> ({})'.format(salmon_id, microwave_id, glass_id, sink_id),\n",
    "    '<char0> [close] <microwave> ({}) | <char1> [switchon] <faucet> ({})'.format(microwave_id, faucet_id)\n",
    "]\n",
    "\n",
    "s, cc = comm.camera_count()\n",
    "for script_instruction in script:\n",
    "    print(script_instruction)\n",
    "    comm.render_script([script_instruction], recording=False, skip_animation=True)\n",
    "    # Here you can get an observation, for instance\n",
    "    s, im = comm.camera_image([cc-3], image_width=300, image_height=300)"
   ]
  }
 ],
 "metadata": {
  "kernelspec": {
   "display_name": "base",
   "language": "python",
   "name": "python3"
  },
  "language_info": {
   "codemirror_mode": {
    "name": "ipython",
    "version": 3
   },
   "file_extension": ".py",
   "mimetype": "text/x-python",
   "name": "python",
   "nbconvert_exporter": "python",
   "pygments_lexer": "ipython3",
   "version": "3.9.13"
  },
  "orig_nbformat": 4
 },
 "nbformat": 4,
 "nbformat_minor": 2
}
